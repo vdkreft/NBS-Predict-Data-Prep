{
 "cells": [
  {
   "cell_type": "code",
   "execution_count": 1,
   "metadata": {},
   "outputs": [],
   "source": [
    "import numpy as np\n",
    "from nilearn import plotting\n",
    "import nilearn\n",
    "import pandas as pd\n",
    "import os\n",
    "import scipy.io\n",
    "import csv"
   ]
  },
  {
   "attachments": {},
   "cell_type": "markdown",
   "metadata": {},
   "source": [
    "Numpy File to Matlab File Conversion"
   ]
  },
  {
   "cell_type": "code",
   "execution_count": null,
   "metadata": {},
   "outputs": [],
   "source": [
    "#Please designate which directory filled with npy connectivity matrices to use (ex. feature_directory = '/Users/emafikre/Desktop/vincent/Features_1000')\n",
    "feature_directory = ''\n",
    "#Please designate which directory should be filled with the converted matlab files \n",
    "mat_feature_directory = ''"
   ]
  },
  {
   "cell_type": "code",
   "execution_count": 2,
   "metadata": {},
   "outputs": [],
   "source": [
    "#Designates list of file names which serves as list of participant IDs\n",
    "file_list = os.listdir(feature_directory)\n",
    "\n",
    "#Selects only numpy files in case your directory has other file types\n",
    "numpy_files = [f for f in file_list]\n",
    "numpy_files.sort()\n",
    "\n",
    "#This for loop converts the numpy connectivity array into a matlab file with name: subject_n.mat, while also making sure that the data is 2 dimensional.\n",
    "for i, numpy_file in enumerate(numpy_files):\n",
    "    data = np.load(os.path.join(feature_directory, numpy_file))\n",
    "    if len(data.shape) == 3:\n",
    "        data = data[0, :, :]\n",
    "\n",
    "    number = str(i+1).zfill(3)\n",
    "\n",
    "    mat_file = 'subject_{}.mat'.format(number)\n",
    "    \n",
    "    scipy.io.savemat(mat_file, {'data': data}, do_compression=True)\n",
    "    os.rename(mat_file, os.path.join(mat_feature_directory, mat_file))"
   ]
  },
  {
   "attachments": {},
   "cell_type": "markdown",
   "metadata": {},
   "source": [
    "Brain Regions File Creation (2018 Schaefer)"
   ]
  },
  {
   "cell_type": "code",
   "execution_count": 3,
   "metadata": {},
   "outputs": [],
   "source": [
    "#Downloads and interprets atlas brain region data and splits it into coordinates and label_names.\n",
    "image = nilearn.datasets.fetch_atlas_schaefer_2018(n_rois=1000)\n",
    "coordinates, label_names= plotting.find_parcellation_cut_coords(labels_img=image.maps, return_label_names=True)"
   ]
  },
  {
   "cell_type": "code",
   "execution_count": 10,
   "metadata": {},
   "outputs": [
    {
     "name": "stdout",
     "output_type": "stream",
     "text": [
      "Data has been saved to BrainRegions.csv.\n"
     ]
    }
   ],
   "source": [
    "#Designates name for the csv file. This convention follows the NBS-Predict structure.\n",
    "output_file = 'BrainRegions.csv'\n",
    "\n",
    "#This creates a csv file and seperates the coordinates and label_names into their appropriate columns.\n",
    "with open(output_file, 'w', newline='') as csvfile:\n",
    "    writer = csv.writer(csvfile)\n",
    "    writer.writerow(['x', 'y', 'z', 'label'])\n",
    "    for i in range(len(coordinates)):\n",
    "        x, y, z = coordinates[i]\n",
    "        label = label_names[i]\n",
    "        writer.writerow([x, y, z, label])\n",
    "\n",
    "#Signals that the data has been saved.\n",
    "print(f\"Data has been saved to {output_file}.\")"
   ]
  },
  {
   "attachments": {},
   "cell_type": "markdown",
   "metadata": {},
   "source": [
    "Design Matrix Creation"
   ]
  },
  {
   "cell_type": "code",
   "execution_count": null,
   "metadata": {},
   "outputs": [],
   "source": [
    "#Please designate tsv files that include participant_id, diagnosis, age, and sex (ex: dataset_paths = ['/Users/emafikre/Desktop/vincent/KTT_participants.tsv', '/Users/emafikre/Desktop/vincent/participants_LA5c.tsv',\n",
    "#'/Users/emafikre/Desktop/vincent/COBRE_control_participants.tsv', '/Users/emafikre/Desktop/vincent/COBRE_scz_participants.tsv'])\n",
    "dataset_paths = ['']\n",
    "\n",
    "#Please designate a directory that includes files with names of participant IDs. (ex. '/Users/emafikre/Desktop/vincent/Features')\n",
    "filename_directory = ''"
   ]
  },
  {
   "cell_type": "code",
   "execution_count": 25,
   "metadata": {},
   "outputs": [
    {
     "data": {
      "text/html": [
       "<div>\n",
       "<style scoped>\n",
       "    .dataframe tbody tr th:only-of-type {\n",
       "        vertical-align: middle;\n",
       "    }\n",
       "\n",
       "    .dataframe tbody tr th {\n",
       "        vertical-align: top;\n",
       "    }\n",
       "\n",
       "    .dataframe thead th {\n",
       "        text-align: right;\n",
       "    }\n",
       "</style>\n",
       "<table border=\"1\" class=\"dataframe\">\n",
       "  <thead>\n",
       "    <tr style=\"text-align: right;\">\n",
       "      <th></th>\n",
       "      <th>diagnosis</th>\n",
       "      <th>diagnosis</th>\n",
       "      <th>age</th>\n",
       "      <th>sex</th>\n",
       "    </tr>\n",
       "  </thead>\n",
       "  <tbody>\n",
       "    <tr>\n",
       "      <th>0</th>\n",
       "      <td>1</td>\n",
       "      <td>0</td>\n",
       "      <td>37</td>\n",
       "      <td>1</td>\n",
       "    </tr>\n",
       "    <tr>\n",
       "      <th>1</th>\n",
       "      <td>1</td>\n",
       "      <td>0</td>\n",
       "      <td>29</td>\n",
       "      <td>1</td>\n",
       "    </tr>\n",
       "    <tr>\n",
       "      <th>2</th>\n",
       "      <td>1</td>\n",
       "      <td>0</td>\n",
       "      <td>27</td>\n",
       "      <td>2</td>\n",
       "    </tr>\n",
       "    <tr>\n",
       "      <th>3</th>\n",
       "      <td>1</td>\n",
       "      <td>0</td>\n",
       "      <td>35</td>\n",
       "      <td>1</td>\n",
       "    </tr>\n",
       "    <tr>\n",
       "      <th>4</th>\n",
       "      <td>1</td>\n",
       "      <td>0</td>\n",
       "      <td>44</td>\n",
       "      <td>2</td>\n",
       "    </tr>\n",
       "    <tr>\n",
       "      <th>...</th>\n",
       "      <td>...</td>\n",
       "      <td>...</td>\n",
       "      <td>...</td>\n",
       "      <td>...</td>\n",
       "    </tr>\n",
       "    <tr>\n",
       "      <th>437</th>\n",
       "      <td>1</td>\n",
       "      <td>0</td>\n",
       "      <td>55</td>\n",
       "      <td>1</td>\n",
       "    </tr>\n",
       "    <tr>\n",
       "      <th>438</th>\n",
       "      <td>1</td>\n",
       "      <td>0</td>\n",
       "      <td>40</td>\n",
       "      <td>2</td>\n",
       "    </tr>\n",
       "    <tr>\n",
       "      <th>439</th>\n",
       "      <td>1</td>\n",
       "      <td>0</td>\n",
       "      <td>21</td>\n",
       "      <td>1</td>\n",
       "    </tr>\n",
       "    <tr>\n",
       "      <th>440</th>\n",
       "      <td>1</td>\n",
       "      <td>0</td>\n",
       "      <td>52</td>\n",
       "      <td>1</td>\n",
       "    </tr>\n",
       "    <tr>\n",
       "      <th>441</th>\n",
       "      <td>1</td>\n",
       "      <td>0</td>\n",
       "      <td>45</td>\n",
       "      <td>1</td>\n",
       "    </tr>\n",
       "  </tbody>\n",
       "</table>\n",
       "<p>442 rows × 4 columns</p>\n",
       "</div>"
      ],
      "text/plain": [
       "    diagnosis diagnosis  age sex\n",
       "0           1         0   37   1\n",
       "1           1         0   29   1\n",
       "2           1         0   27   2\n",
       "3           1         0   35   1\n",
       "4           1         0   44   2\n",
       "..        ...       ...  ...  ..\n",
       "437         1         0   55   1\n",
       "438         1         0   40   2\n",
       "439         1         0   21   1\n",
       "440         1         0   52   1\n",
       "441         1         0   45   1\n",
       "\n",
       "[442 rows x 4 columns]"
      ]
     },
     "execution_count": 25,
     "metadata": {},
     "output_type": "execute_result"
    }
   ],
   "source": [
    "#Designates the array of file paths and unzips the files.\n",
    "datasets = []\n",
    "for path in dataset_paths:\n",
    "    dataset = pd.read_csv(path, sep='\\t')\n",
    "    datasets.append(dataset)\n",
    "\n",
    "#This long for loop essentially makes all datasets have the same format so that concat function can work without hiccup. \n",
    "for i in range(len(datasets)):\n",
    "    dataset = datasets[i]\n",
    "\n",
    "    if 'diag' in dataset.columns:\n",
    "        dataset.rename(columns={'diag': 'diagnosis'}, inplace=True)\n",
    "    elif 'dx' in dataset.columns:\n",
    "        dataset.rename(columns={'dx': 'diagnosis'}, inplace=True)\n",
    "    elif 'gender' in dataset.columns:\n",
    "        dataset.rename(columns={'gender': 'sex'}, inplace=True)\n",
    "\n",
    "    dataset = dataset[['participant_id', 'diagnosis', 'age', 'sex']]\n",
    "\n",
    "    dataset = dataset.replace(to_replace=4, value=\"1\")\n",
    "    dataset = dataset.replace(to_replace=0, value=\"0\")\n",
    "    dataset = dataset.replace(to_replace=[\"CONTROL\"], value=\"0\")\n",
    "    dataset = dataset.replace(to_replace=[\"SCHZ\"], value=\"1\")\n",
    "    dataset = dataset.replace(to_replace=[\"No_Known_Disorder\"], value=\"0\")\n",
    "    dataset = dataset.replace(to_replace=[\"Schizophrenia_Strict\"], value=\"1\")\n",
    "    dataset = dataset[(dataset['diagnosis'] == '0') | (dataset['diagnosis'] == '1')]\n",
    "    dataset = dataset.replace(to_replace=[\"M\"], value=\"1\")\n",
    "    dataset = dataset.replace(to_replace=[\"F\"], value=\"2\")\n",
    "    dataset = dataset.replace(to_replace=[\"male\"], value=\"1\")\n",
    "    dataset = dataset.replace(to_replace=[\"female\"], value=\"2\")\n",
    "\n",
    "    dataset['participant_id'] = dataset['participant_id'].apply(lambda x: 'sub-' + x if not x.startswith('sub-') else x)\n",
    "\n",
    "    datasets[i] = dataset\n",
    "\n",
    "#Merges all datasets into a single dataset.\n",
    "y = pd.concat(datasets, ignore_index=True)\n",
    "\n",
    "#This checks whether or not some of your participants within the dataset do not match with a file name within your filename_directory\n",
    "filenames = os.listdir(filename_directory)\n",
    "\n",
    "for participant in y['participant_id']:\n",
    "    if participant not in filenames:\n",
    "        y.drop(y[y['participant_id'] == participant].index, inplace = True)\n",
    "\n",
    "#Formats the dataset according to the necessary convention of NBS-Predict\n",
    "y = y[['diagnosis','diagnosis', 'age', 'sex']]\n",
    "y.reset_index(drop=True, inplace=True)\n",
    "y.iloc[:, 1] = y.iloc[:,1].replace({'0': '1', '1': '0'})\n",
    "y"
   ]
  },
  {
   "cell_type": "code",
   "execution_count": null,
   "metadata": {},
   "outputs": [],
   "source": [
    "#Please designate where you would like to save your pre-formatted design matrix (ex. '/Users/emafikre/Desktop/MatlabProject/predesign.csv')\n",
    "preformat_design = ''"
   ]
  },
  {
   "cell_type": "code",
   "execution_count": 26,
   "metadata": {},
   "outputs": [],
   "source": [
    "#Saves the preformatted dataset to a csv file\n",
    "y.to_csv(preformat_design)\n",
    "\n",
    "#Redownloads the csv file with no header, index, and column titles as requested by NBS-Predict\n",
    "csv = pd.read_csv(preformat_design, header= None)\n",
    "y_fixed = csv.drop(index=0, columns=0)\n",
    "\n",
    "#Converts the dataset into a matlab file with the proper file name as requested by NBS-Predict\n",
    "mat = y_fixed.values\n",
    "scipy.io.savemat('design.mat', {'design': mat})"
   ]
  }
 ],
 "metadata": {
  "kernelspec": {
   "display_name": "Python 3",
   "language": "python",
   "name": "python3"
  },
  "language_info": {
   "codemirror_mode": {
    "name": "ipython",
    "version": 3
   },
   "file_extension": ".py",
   "mimetype": "text/x-python",
   "name": "python",
   "nbconvert_exporter": "python",
   "pygments_lexer": "ipython3",
   "version": "3.10.11"
  },
  "orig_nbformat": 4
 },
 "nbformat": 4,
 "nbformat_minor": 2
}
