{
 "cells": [
  {
   "cell_type": "code",
   "execution_count": 1,
   "metadata": {},
   "outputs": [],
   "source": [
    "import numpy as np\n",
    "from NeuroConn.preprocessing.preprocessing import FmriPreppedDataSet\n",
    "from nilearn import plotting\n",
    "\n",
    "from sklearn import svm\n",
    "import sklearn\n",
    "from sklearn.model_selection import train_test_split\n",
    "from sklearn.metrics import classification_report\n",
    "import nilearn\n",
    "from nilearn.connectome import sym_matrix_to_vec\n",
    "import pandas as pd\n",
    "import os\n",
    "import matplotlib.pyplot as plt\n",
    "from sklearn.model_selection import GridSearchCV\n",
    "from sklearn.model_selection import cross_val_predict, cross_val_score\n",
    "\n",
    "import plotly.express as px\n",
    "import plotly.graph_objects as go\n",
    "\n",
    "from sklearn.linear_model import LogisticRegression\n",
    "from sklearn import metrics\n",
    "\n",
    "import matplotlib.pyplot as plt\n",
    "\n",
    "from sklearn.feature_selection import SelectPercentile\n",
    "import scipy.io\n",
    "\n",
    "import csv"
   ]
  },
  {
   "cell_type": "code",
   "execution_count": 2,
   "metadata": {},
   "outputs": [],
   "source": [
    "feature_directory = '/Users/emafikre/Desktop/vincent/Features_1000'\n",
    "file_list = os.listdir(feature_directory)\n",
    "\n",
    "numpy_files = [f for f in file_list]\n",
    "numpy_files.sort()\n",
    "\n",
    "for i, numpy_file in enumerate(numpy_files):\n",
    "    data = np.load(os.path.join(feature_directory, numpy_file))\n",
    "    if len(data.shape) == 3:\n",
    "        data = data[0, :, :]\n",
    "    \n",
    "    if np.isnan(data).any():\n",
    "        print('Missing value(s) found in file:', numpy_file)\n",
    "\n",
    "    number = str(i+1).zfill(3)\n",
    "\n",
    "    mat_file = 'subject_{}.mat'.format(number)\n",
    "    \n",
    "    scipy.io.savemat(mat_file, {'data': data}, do_compression=True)\n",
    "    os.rename(mat_file, os.path.join('/Users/emafikre/Desktop/MatlabProject/Schizophrenic/matrices', mat_file))"
   ]
  },
  {
   "cell_type": "code",
   "execution_count": 3,
   "metadata": {},
   "outputs": [],
   "source": [
    "image = nilearn.datasets.fetch_atlas_schaefer_2018(n_rois=1000)\n",
    "coordinates, label_names= plotting.find_parcellation_cut_coords(labels_img=image.maps, return_label_names=True)"
   ]
  },
  {
   "cell_type": "code",
   "execution_count": 5,
   "metadata": {},
   "outputs": [
    {
     "data": {
      "text/plain": [
       "'/Users/emafikre/nilearn_data/schaefer_2018/Schaefer2018_1000Parcels_7Networks_order_FSLMNI152_1mm.nii.gz'"
      ]
     },
     "execution_count": 5,
     "metadata": {},
     "output_type": "execute_result"
    }
   ],
   "source": [
    "image.maps"
   ]
  },
  {
   "cell_type": "code",
   "execution_count": 10,
   "metadata": {},
   "outputs": [
    {
     "name": "stdout",
     "output_type": "stream",
     "text": [
      "Data has been saved to BrainRegions.csv.\n"
     ]
    }
   ],
   "source": [
    "output_file = 'BrainRegions.csv'\n",
    "\n",
    "# Write data to the CSV file\n",
    "with open(output_file, 'w', newline='') as csvfile:\n",
    "    writer = csv.writer(csvfile)\n",
    "    writer.writerow(['x', 'y', 'z', 'label'])  # Write header row\n",
    "    for i in range(len(coordinates)):\n",
    "        x, y, z = coordinates[i]\n",
    "        label = label_names[i]\n",
    "        writer.writerow([x, y, z, label])\n",
    "\n",
    "print(f\"Data has been saved to {output_file}.\")"
   ]
  },
  {
   "cell_type": "code",
   "execution_count": 25,
   "metadata": {},
   "outputs": [
    {
     "data": {
      "text/html": [
       "<div>\n",
       "<style scoped>\n",
       "    .dataframe tbody tr th:only-of-type {\n",
       "        vertical-align: middle;\n",
       "    }\n",
       "\n",
       "    .dataframe tbody tr th {\n",
       "        vertical-align: top;\n",
       "    }\n",
       "\n",
       "    .dataframe thead th {\n",
       "        text-align: right;\n",
       "    }\n",
       "</style>\n",
       "<table border=\"1\" class=\"dataframe\">\n",
       "  <thead>\n",
       "    <tr style=\"text-align: right;\">\n",
       "      <th></th>\n",
       "      <th>diagnosis</th>\n",
       "      <th>diagnosis</th>\n",
       "      <th>age</th>\n",
       "      <th>sex</th>\n",
       "    </tr>\n",
       "  </thead>\n",
       "  <tbody>\n",
       "    <tr>\n",
       "      <th>0</th>\n",
       "      <td>1</td>\n",
       "      <td>0</td>\n",
       "      <td>37</td>\n",
       "      <td>1</td>\n",
       "    </tr>\n",
       "    <tr>\n",
       "      <th>1</th>\n",
       "      <td>1</td>\n",
       "      <td>0</td>\n",
       "      <td>29</td>\n",
       "      <td>1</td>\n",
       "    </tr>\n",
       "    <tr>\n",
       "      <th>2</th>\n",
       "      <td>1</td>\n",
       "      <td>0</td>\n",
       "      <td>27</td>\n",
       "      <td>2</td>\n",
       "    </tr>\n",
       "    <tr>\n",
       "      <th>3</th>\n",
       "      <td>1</td>\n",
       "      <td>0</td>\n",
       "      <td>35</td>\n",
       "      <td>1</td>\n",
       "    </tr>\n",
       "    <tr>\n",
       "      <th>4</th>\n",
       "      <td>1</td>\n",
       "      <td>0</td>\n",
       "      <td>44</td>\n",
       "      <td>2</td>\n",
       "    </tr>\n",
       "    <tr>\n",
       "      <th>...</th>\n",
       "      <td>...</td>\n",
       "      <td>...</td>\n",
       "      <td>...</td>\n",
       "      <td>...</td>\n",
       "    </tr>\n",
       "    <tr>\n",
       "      <th>437</th>\n",
       "      <td>1</td>\n",
       "      <td>0</td>\n",
       "      <td>55</td>\n",
       "      <td>1</td>\n",
       "    </tr>\n",
       "    <tr>\n",
       "      <th>438</th>\n",
       "      <td>1</td>\n",
       "      <td>0</td>\n",
       "      <td>40</td>\n",
       "      <td>2</td>\n",
       "    </tr>\n",
       "    <tr>\n",
       "      <th>439</th>\n",
       "      <td>1</td>\n",
       "      <td>0</td>\n",
       "      <td>21</td>\n",
       "      <td>1</td>\n",
       "    </tr>\n",
       "    <tr>\n",
       "      <th>440</th>\n",
       "      <td>1</td>\n",
       "      <td>0</td>\n",
       "      <td>52</td>\n",
       "      <td>1</td>\n",
       "    </tr>\n",
       "    <tr>\n",
       "      <th>441</th>\n",
       "      <td>1</td>\n",
       "      <td>0</td>\n",
       "      <td>45</td>\n",
       "      <td>1</td>\n",
       "    </tr>\n",
       "  </tbody>\n",
       "</table>\n",
       "<p>442 rows × 4 columns</p>\n",
       "</div>"
      ],
      "text/plain": [
       "    diagnosis diagnosis  age sex\n",
       "0           1         0   37   1\n",
       "1           1         0   29   1\n",
       "2           1         0   27   2\n",
       "3           1         0   35   1\n",
       "4           1         0   44   2\n",
       "..        ...       ...  ...  ..\n",
       "437         1         0   55   1\n",
       "438         1         0   40   2\n",
       "439         1         0   21   1\n",
       "440         1         0   52   1\n",
       "441         1         0   45   1\n",
       "\n",
       "[442 rows x 4 columns]"
      ]
     },
     "execution_count": 25,
     "metadata": {},
     "output_type": "execute_result"
    }
   ],
   "source": [
    "dataset_paths = [\n",
    "    '/Users/emafikre/Desktop/vincent/KTT_participants.tsv',\n",
    "    '/Users/emafikre/Desktop/vincent/participants_LA5c.tsv',\n",
    "    '/Users/emafikre/Desktop/vincent/COBRE_control_participants.tsv',\n",
    "    '/Users/emafikre/Desktop/vincent/COBRE_scz_participants.tsv'\n",
    "]\n",
    "\n",
    "datasets = []\n",
    "for path in dataset_paths:\n",
    "    dataset = pd.read_csv(path, sep='\\t')\n",
    "    datasets.append(dataset)\n",
    "\n",
    "for i in range(len(datasets)):\n",
    "    dataset = datasets[i]\n",
    "\n",
    "    if 'diag' in dataset.columns:\n",
    "        dataset.rename(columns={'diag': 'diagnosis'}, inplace=True)\n",
    "    elif 'dx' in dataset.columns:\n",
    "        dataset.rename(columns={'dx': 'diagnosis'}, inplace=True)\n",
    "    elif 'gender' in dataset.columns:\n",
    "        dataset.rename(columns={'gender': 'sex'}, inplace=True)\n",
    "\n",
    "    dataset = dataset[['participant_id', 'diagnosis', 'age', 'sex']]\n",
    "\n",
    "    dataset = dataset.replace(to_replace=4, value=\"1\")\n",
    "    dataset = dataset.replace(to_replace=0, value=\"0\")\n",
    "    dataset = dataset.replace(to_replace=[\"CONTROL\"], value=\"0\")\n",
    "    dataset = dataset.replace(to_replace=[\"SCHZ\"], value=\"1\")\n",
    "    dataset = dataset.replace(to_replace=[\"No_Known_Disorder\"], value=\"0\")\n",
    "    dataset = dataset.replace(to_replace=[\"Schizophrenia_Strict\"], value=\"1\")\n",
    "    dataset = dataset[(dataset['diagnosis'] == '0') | (dataset['diagnosis'] == '1')]\n",
    "    dataset = dataset.replace(to_replace=[\"M\"], value=\"1\")\n",
    "    dataset = dataset.replace(to_replace=[\"F\"], value=\"2\")\n",
    "    dataset = dataset.replace(to_replace=[\"male\"], value=\"1\")\n",
    "    dataset = dataset.replace(to_replace=[\"female\"], value=\"2\")\n",
    "\n",
    "    dataset['participant_id'] = dataset['participant_id'].apply(lambda x: 'sub-' + x if not x.startswith('sub-') else x)\n",
    "\n",
    "    datasets[i] = dataset\n",
    "\n",
    "y = pd.concat(datasets, ignore_index=True)\n",
    "\n",
    "filenames = os.listdir('/Users/emafikre/Desktop/vincent/Features')\n",
    "\n",
    "for participant in y['participant_id']:\n",
    "    if participant not in filenames:\n",
    "        y.drop(y[y['participant_id'] == participant].index, inplace = True)\n",
    "\n",
    "y = y[['diagnosis','diagnosis', 'age', 'sex']]\n",
    "y.reset_index(drop=True, inplace=True)\n",
    "y.iloc[:, 1] = y.iloc[:,1].replace({'0': '1', '1': '0'})\n",
    "y"
   ]
  },
  {
   "cell_type": "code",
   "execution_count": 26,
   "metadata": {},
   "outputs": [],
   "source": [
    "y.to_csv('/Users/emafikre/Desktop/MatlabProject/predesign.csv')"
   ]
  },
  {
   "cell_type": "code",
   "execution_count": 27,
   "metadata": {},
   "outputs": [],
   "source": [
    "csv = pd.read_csv('/Users/emafikre/Desktop/MatlabProject/predesign.csv', header= None)\n",
    "y_fixed = csv.drop(index=0, columns=0)"
   ]
  },
  {
   "cell_type": "code",
   "execution_count": 28,
   "metadata": {},
   "outputs": [],
   "source": [
    "mat = y_fixed.values"
   ]
  },
  {
   "cell_type": "code",
   "execution_count": 30,
   "metadata": {},
   "outputs": [],
   "source": [
    "scipy.io.savemat('design.mat', {'design': mat})"
   ]
  }
 ],
 "metadata": {
  "kernelspec": {
   "display_name": "Python 3",
   "language": "python",
   "name": "python3"
  },
  "language_info": {
   "codemirror_mode": {
    "name": "ipython",
    "version": 3
   },
   "file_extension": ".py",
   "mimetype": "text/x-python",
   "name": "python",
   "nbconvert_exporter": "python",
   "pygments_lexer": "ipython3",
   "version": "3.10.11"
  },
  "orig_nbformat": 4
 },
 "nbformat": 4,
 "nbformat_minor": 2
}
